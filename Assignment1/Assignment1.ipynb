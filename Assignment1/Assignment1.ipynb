{
 "cells": [
  {
   "cell_type": "markdown",
   "id": "ba178d52",
   "metadata": {},
   "source": [
    "# Question no : 01"
   ]
  },
  {
   "cell_type": "code",
   "execution_count": 5,
   "id": "594027de",
   "metadata": {},
   "outputs": [
    {
     "name": "stdout",
     "output_type": "stream",
     "text": [
      "Twinkle,Twinkle,little star,\n",
      "\t How I wonderwhat you are!\n",
      "\t\t Up above the world so high,\n",
      "\t\tLike a diamond in the sky.\n",
      "Twinkle,Twinkle,little star,\n",
      "\tHow I wonder what you are\n"
     ]
    }
   ],
   "source": [
    "print(\"Twinkle,Twinkle,little star,\\n\\t How I wonderwhat you are!\\n\\t\\t Up above the world so high,\\n\\t\\tLike a diamond in the sky.\\nTwinkle,Twinkle,little star,\\n\\tHow I wonder what you are\");"
   ]
  },
  {
   "cell_type": "markdown",
   "id": "51628d5f",
   "metadata": {},
   "source": [
    "#  Question no : 02"
   ]
  },
  {
   "cell_type": "code",
   "execution_count": 2,
   "id": "6bd06ce4",
   "metadata": {},
   "outputs": [
    {
     "name": "stdout",
     "output_type": "stream",
     "text": [
      "Python Version\n",
      "3.9.7 (default, Sep 16 2021, 16:59:28) [MSC v.1916 64 bit (AMD64)]\n"
     ]
    }
   ],
   "source": [
    "import sys\n",
    "print(\"Python Version\");\n",
    "print(sys.version);"
   ]
  },
  {
   "cell_type": "markdown",
   "id": "b1361cf1",
   "metadata": {},
   "source": [
    "#  Question no : 03"
   ]
  },
  {
   "cell_type": "code",
   "execution_count": 5,
   "id": "15a38ee6",
   "metadata": {},
   "outputs": [
    {
     "name": "stdout",
     "output_type": "stream",
     "text": [
      "Current date and time = 03/01/2022 07:03:56\n"
     ]
    }
   ],
   "source": [
    "from datetime import datetime\n",
    "\n",
    "# datetime object containing current date and time\n",
    "dandt = datetime.now()\n",
    " \n",
    "# dd/mm/YY H:M:S\n",
    "dt_string = dandt.strftime(\"%d/%m/%Y %H:%M:%S\")\n",
    "print(\"Current date and time =\", dt_string)\t\n"
   ]
  },
  {
   "cell_type": "markdown",
   "id": "3e1e1f2c",
   "metadata": {},
   "source": [
    "#  Question no : 04"
   ]
  },
  {
   "cell_type": "code",
   "execution_count": 7,
   "id": "adf30b7b",
   "metadata": {},
   "outputs": [
    {
     "name": "stdout",
     "output_type": "stream",
     "text": [
      "Input the radius of the circle : 4\n",
      "The area of the circle with radius 4.0 is: 50.26548245743669\n"
     ]
    }
   ],
   "source": [
    "from math import pi\n",
    "rad = float(input (\"Input the radius of the circle : \"))\n",
    "print (\"The area of the circle with radius \" + str(rad) + \" is: \" + str(pi * rad**2))"
   ]
  },
  {
   "cell_type": "markdown",
   "id": "82e8d38f",
   "metadata": {},
   "source": [
    "#  Question no : 05"
   ]
  },
  {
   "cell_type": "code",
   "execution_count": 8,
   "id": "69477f05",
   "metadata": {},
   "outputs": [
    {
     "name": "stdout",
     "output_type": "stream",
     "text": [
      "Your first Name: fariza\n",
      "Your last Name: mohsin\n",
      "nishom aziraf\n"
     ]
    }
   ],
   "source": [
    "fname = input(\"Your first Name: \");\n",
    "lname = input(\"Your last Name: \");\n",
    "print(lname[::-1]+\" \"+fname[::-1]);"
   ]
  },
  {
   "cell_type": "markdown",
   "id": "9bd6ba83",
   "metadata": {},
   "source": [
    "# Question no : 06"
   ]
  },
  {
   "cell_type": "code",
   "execution_count": 2,
   "id": "71a9b3cc",
   "metadata": {},
   "outputs": [
    {
     "name": "stdout",
     "output_type": "stream",
     "text": [
      "Enter first number: 3\n",
      "Enter second number: 9\n",
      "Addition of  3  and  9  is:  12\n"
     ]
    }
   ],
   "source": [
    "num1 = int(input(\"Enter first number: \"));\n",
    "num2 = int(input(\"Enter second number: \"));\n",
    "result = num1 + num2;\n",
    "print(\"Addition of \", num1 ,\" and \", num2 ,\" is: \",result);"
   ]
  }
 ],
 "metadata": {
  "kernelspec": {
   "display_name": "Python 3 (ipykernel)",
   "language": "python",
   "name": "python3"
  },
  "language_info": {
   "codemirror_mode": {
    "name": "ipython",
    "version": 3
   },
   "file_extension": ".py",
   "mimetype": "text/x-python",
   "name": "python",
   "nbconvert_exporter": "python",
   "pygments_lexer": "ipython3",
   "version": "3.9.7"
  }
 },
 "nbformat": 4,
 "nbformat_minor": 5
}
